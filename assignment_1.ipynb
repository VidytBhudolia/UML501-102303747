{
  "cells": [
    {
      "cell_type": "markdown",
      "metadata": {},
      "source": [
        "# NumPy Assignment - Basic Operations and Mathematical Functions\n",
        "\n",
        "## Q1: Questions on Basic NumPy Array\n",
        "\n",
        "### (a) Reverse the NumPy array: arr = np.array([1, 2, 3, 6, 4, 5])"
      ]
    },
    {
      "cell_type": "code",
      "execution_count": 1,
      "metadata": {
        "id": "LaAhW5lh1zqT"
      },
      "outputs": [],
      "source": [
        "import numpy as np"
      ]
    },
    {
      "cell_type": "code",
      "execution_count": 2,
      "metadata": {
        "colab": {
          "base_uri": "https://localhost:8080/",
          "height": 34
        },
        "id": "DWTj5Al517Gf",
        "outputId": "b9a20851-56ee-4012-dae7-e022e209d03c"
      },
      "outputs": [
        {
          "name": "stdout",
          "output_type": "stream",
          "text": [
            "Original array: [1 2 3 6 4 5]\n",
            "Reversed array: [5 4 6 3 2 1]\n"
          ]
        }
      ],
      "source": [
        "arr = np.array([1, 2, 3, 6, 4, 5])\n",
        "# reverse it\n",
        "r = np.flip(arr)\n",
        "print(\"Original array:\", arr)\n",
        "print(\"Reversed array:\", r)"
      ]
    },
    {
      "cell_type": "markdown",
      "metadata": {},
      "source": [
        "### (b) Flatten the NumPy array using two different methods"
      ]
    },
    {
      "cell_type": "code",
      "execution_count": 3,
      "metadata": {
        "colab": {
          "base_uri": "https://localhost:8080/",
          "height": 52
        },
        "id": "qyreTyf62RBg",
        "outputId": "a40d557e-1450-47bc-97ff-5faf797dc991"
      },
      "outputs": [
        {
          "name": "stdout",
          "output_type": "stream",
          "text": [
            "Original array:\n",
            "[[1 2 3]\n",
            " [2 4 5]\n",
            " [1 2 3]]\n",
            "\n",
            "Flattened using flatten(): [1 2 3 2 4 5 1 2 3]\n",
            "Flattened using ravel(): [1 2 3 2 4 5 1 2 3]\n"
          ]
        }
      ],
      "source": [
        "array1 = np.array([[1, 2, 3], [2, 4, 5], [1, 2, 3]])\n",
        "print(\"Original array:\")\n",
        "print(array1)\n",
        "\n",
        "# Method 1: Using flatten()\n",
        "f_a1 = array1.flatten()\n",
        "print(\"\\nFlattened using flatten():\", f_a1)\n",
        "\n",
        "# Method 2: Using ravel()\n",
        "f_a2 = array1.ravel()\n",
        "print(\"Flattened using ravel():\", f_a2)"
      ]
    },
    {
      "cell_type": "markdown",
      "metadata": {},
      "source": [
        "### (c) Compare the NumPy arrays"
      ]
    },
    {
      "cell_type": "code",
      "execution_count": 4,
      "metadata": {
        "colab": {
          "base_uri": "https://localhost:8080/",
          "height": 34
        },
        "id": "6MHn10sG2qhP",
        "outputId": "53b08abd-4253-4d42-be49-4908145fe2eb"
      },
      "outputs": [
        {
          "name": "stdout",
          "output_type": "stream",
          "text": [
            "Array 1:\n",
            "[[1 2]\n",
            " [3 4]]\n",
            "\n",
            "Array 2:\n",
            "[[1 2]\n",
            " [3 4]]\n",
            "\n",
            "Are arrays equal? True\n"
          ]
        }
      ],
      "source": [
        "arr1 = np.array([[1, 2], [3, 4]])\n",
        "arr2 = np.array([[1, 2], [3, 4]])\n",
        "\n",
        "print(\"Array 1:\")\n",
        "print(arr1)\n",
        "print(\"\\nArray 2:\")\n",
        "print(arr2)\n",
        "print(f\"\\nAre arrays equal? {np.array_equal(arr1, arr2)}\")"
      ]
    },
    {
      "cell_type": "markdown",
      "metadata": {},
      "source": [
        "### (d) Find the most frequent value and their indices"
      ]
    },
    {
      "cell_type": "code",
      "execution_count": 5,
      "metadata": {
        "colab": {
          "base_uri": "https://localhost:8080/"
        },
        "id": "06sLcDPl3F0v",
        "outputId": "6aab256c-1521-4642-f843-27f4c2b64952"
      },
      "outputs": [
        {
          "name": "stdout",
          "output_type": "stream",
          "text": [
            "Array x: [1 2 3 4 5 1 2 1 1 1]\n",
            "Most frequent value: 1\n",
            "Indices of most frequent value: [0 5 7 8 9]\n",
            "\n",
            "Array y: [1 1 1 2 3 4 2 4 3 3]\n",
            "Most frequent value: 1\n",
            "Indices of most frequent value: [0 1 2]\n"
          ]
        }
      ],
      "source": [
        "x = np.array([1, 2, 3, 4, 5, 1, 2, 1, 1, 1])\n",
        "y = np.array([1, 1, 1, 2, 3, 4, 2, 4, 3, 3])\n",
        "from collections import Counter\n",
        "\n",
        "# For array x\n",
        "counts_x = Counter(x)\n",
        "most_common_x = counts_x.most_common(1)[0]\n",
        "most_frequent_value_x = most_common_x[0]\n",
        "indices_x = np.where(x == most_frequent_value_x)[0]\n",
        "\n",
        "print(f\"Array x: {x}\")\n",
        "print(f\"Most frequent value: {most_frequent_value_x}\")\n",
        "print(f\"Indices of most frequent value: {indices_x}\")\n",
        "\n",
        "# For array y\n",
        "counts_y = Counter(y)\n",
        "most_common_y = counts_y.most_common(1)[0]\n",
        "most_frequent_value_y = most_common_y[0]\n",
        "indices_y = np.where(y == most_frequent_value_y)[0]\n",
        "\n",
        "print(f\"\\nArray y: {y}\")\n",
        "print(f\"Most frequent value: {most_frequent_value_y}\")\n",
        "print(f\"Indices of most frequent value: {indices_y}\")"
      ]
    },
    {
      "cell_type": "markdown",
      "metadata": {},
      "source": [
        "### (e) Matrix operations - Sum calculations"
      ]
    },
    {
      "cell_type": "code",
      "execution_count": 6,
      "metadata": {
        "colab": {
          "base_uri": "https://localhost:8080/",
          "height": 72
        },
        "id": "45e82c83",
        "outputId": "a7e32c31-68de-49ba-ff9d-23f6f0485146"
      },
      "outputs": [
        {
          "name": "stdout",
          "output_type": "stream",
          "text": [
            "Matrix gfg:\n",
            "[[ 4  1  9]\n",
            " [12  3  1]\n",
            " [ 4  5  6]]\n",
            "\n",
            "i. Sum of all elements: 45\n",
            "ii. Sum row-wise: [[14 16 15]]\n",
            "iii. Sum column-wise: [[20  9 16]]\n"
          ]
        }
      ],
      "source": [
        "gfg = np.matrix('[4, 1, 9; 12, 3, 1; 4, 5, 6]')\n",
        "print(\"Matrix gfg:\")\n",
        "print(gfg)\n",
        "\n",
        "print(f\"\\ni. Sum of all elements: {np.sum(gfg)}\")\n",
        "print(f\"ii. Sum row-wise: {np.sum(gfg, axis=1).flatten()}\")\n",
        "print(f\"iii. Sum column-wise: {np.sum(gfg, axis=0).flatten()}\")"
      ]
    },
    {
      "cell_type": "markdown",
      "metadata": {},
      "source": [
        "### (f) Matrix operations - Linear algebra"
      ]
    },
    {
      "cell_type": "code",
      "execution_count": 7,
      "metadata": {
        "colab": {
          "base_uri": "https://localhost:8080/",
          "height": 161
        },
        "id": "9dded5f6",
        "outputId": "564dcb7f-b29c-48f2-c16e-892ff553c237"
      },
      "outputs": [
        {
          "name": "stdout",
          "output_type": "stream",
          "text": [
            "Matrix n_array:\n",
            "[[55 25 15]\n",
            " [30 44  2]\n",
            " [11 45 77]]\n",
            "\n",
            "i. Sum of diagonal elements: 176\n",
            "\n",
            "ii. Eigenvalues:\n",
            "[98.16835147 28.097044   49.73460452]\n",
            "\n",
            "iii. Eigenvectors:\n",
            "[[ 0.4574917   0.34637121 -0.15017693]\n",
            " [ 0.28447814 -0.72784061 -0.4852124 ]\n",
            " [ 0.84248058  0.59184038  0.8614034 ]]\n",
            "\n",
            "iv. Inverse matrix:\n",
            "[[ 0.02404141 -0.00911212 -0.00444671]\n",
            " [-0.01667882  0.02966905  0.0024785 ]\n",
            " [ 0.00631287 -0.01603732  0.01217379]]\n",
            "\n",
            "v. Determinant of the matrix: 137180.00\n"
          ]
        }
      ],
      "source": [
        "n_array = np.array([[55, 25, 15], [30, 44, 2], [11, 45, 77]])\n",
        "print(\"Matrix n_array:\")\n",
        "print(n_array)\n",
        "\n",
        "print(f\"\\ni. Sum of diagonal elements: {np.trace(n_array)}\")\n",
        "\n",
        "eigenvalues, eigenvectors = np.linalg.eig(n_array)\n",
        "print(f\"\\nii. Eigenvalues:\")\n",
        "print(eigenvalues)\n",
        "\n",
        "print(f\"\\niii. Eigenvectors:\")\n",
        "print(eigenvectors)\n",
        "\n",
        "print(f\"\\niv. Inverse matrix:\")\n",
        "print(np.linalg.inv(n_array))\n",
        "\n",
        "print(f\"\\nv. Determinant of the matrix: {np.linalg.det(n_array):.2f}\")"
      ]
    },
    {
      "cell_type": "markdown",
      "metadata": {},
      "source": [
        "### (g) Matrix multiplication and covariance"
      ]
    },
    {
      "cell_type": "code",
      "execution_count": 8,
      "metadata": {
        "id": "VNuCqnfV4z6u"
      },
      "outputs": [
        {
          "name": "stdout",
          "output_type": "stream",
          "text": [
            "i. First set of matrices:\n",
            "p = [[1 2]\n",
            " [2 3]]\n",
            "q = [[4 5]\n",
            " [6 7]]\n",
            "\n",
            "Matrix multiplication (p @ q):\n",
            "[[16 19]\n",
            " [26 31]]\n",
            "\n",
            "Covariance between matrices:\n",
            "[[0.66666667 1.        ]\n",
            " [1.         1.66666667]]\n",
            "\n",
            "\n",
            "ii. Second set of matrices:\n",
            "p = [[1 2]\n",
            " [2 3]\n",
            " [4 5]]\n",
            "q = [[4 5 1]\n",
            " [6 7 2]]\n",
            "\n",
            "Matrix multiplication (p @ q):\n",
            "[[16 19  5]\n",
            " [26 31  8]\n",
            " [46 55 14]]\n",
            "\n",
            "Covariance between matrices:\n",
            "[[2.16666667 0.23333333]\n",
            " [0.23333333 5.36666667]]\n",
            "\n",
            "p = [[1 2]\n",
            " [2 3]]\n",
            "q = [[4 5]\n",
            " [6 7]]\n",
            "\n",
            "Matrix multiplication (p @ q):\n",
            "[[16 19]\n",
            " [26 31]]\n",
            "\n",
            "Covariance between matrices:\n",
            "[[0.66666667 1.        ]\n",
            " [1.         1.66666667]]\n",
            "\n",
            "\n",
            "ii. Second set of matrices:\n",
            "p = [[1 2]\n",
            " [2 3]\n",
            " [4 5]]\n",
            "q = [[4 5 1]\n",
            " [6 7 2]]\n",
            "\n",
            "Matrix multiplication (p @ q):\n",
            "[[16 19  5]\n",
            " [26 31  8]\n",
            " [46 55 14]]\n",
            "\n",
            "Covariance between matrices:\n",
            "[[2.16666667 0.23333333]\n",
            " [0.23333333 5.36666667]]\n"
          ]
        }
      ],
      "source": [
        "# i. First set of matrices\n",
        "p1 = np.array([[1, 2], [2, 3]])\n",
        "q1 = np.array([[4, 5], [6, 7]])\n",
        "\n",
        "print(\"i. First set of matrices:\")\n",
        "print(\"p =\", p1)\n",
        "print(\"q =\", q1)\n",
        "print(\"\\nMatrix multiplication (p @ q):\")\n",
        "print(np.dot(p1, q1))\n",
        "print(\"\\nCovariance between matrices:\")\n",
        "print(np.cov(p1.flatten(), q1.flatten()))\n",
        "\n",
        "# ii. Second set of matrices\n",
        "p2 = np.array([[1, 2], [2, 3], [4, 5]])\n",
        "q2 = np.array([[4, 5, 1], [6, 7, 2]])\n",
        "\n",
        "print(\"\\n\\nii. Second set of matrices:\")\n",
        "print(\"p =\", p2)\n",
        "print(\"q =\", q2)\n",
        "print(\"\\nMatrix multiplication (p @ q):\")\n",
        "print(np.dot(p2, q2))\n",
        "print(\"\\nCovariance between matrices:\")\n",
        "print(np.cov(p2.flatten(), q2.flatten()))"
      ]
    },
    {
      "cell_type": "markdown",
      "metadata": {},
      "source": [
        "### (h) Inner, outer and cartesian products"
      ]
    },
    {
      "cell_type": "code",
      "execution_count": 9,
      "metadata": {},
      "outputs": [
        {
          "name": "stdout",
          "output_type": "stream",
          "text": [
            "Matrix x:\n",
            "[[2 3 4]\n",
            " [3 2 9]]\n",
            "\n",
            "Matrix y:\n",
            "[[ 1  5  0]\n",
            " [ 5 10  3]]\n",
            "\n",
            "Inner product:\n",
            "[[17 52]\n",
            " [13 62]]\n",
            "\n",
            "Outer product:\n",
            "[[ 2 10  0 10 20  6]\n",
            " [ 3 15  0 15 30  9]\n",
            " [ 4 20  0 20 40 12]\n",
            " [ 3 15  0 15 30  9]\n",
            " [ 2 10  0 10 20  6]\n",
            " [ 9 45  0 45 90 27]]\n",
            "\n",
            "Cartesian product (using meshgrid):\n",
            "Shape: (36, 2)\n",
            "First 10 pairs:\n",
            "[[ 2  1]\n",
            " [ 2  5]\n",
            " [ 2  0]\n",
            " [ 2  5]\n",
            " [ 2 10]\n",
            " [ 2  3]\n",
            " [ 3  1]\n",
            " [ 3  5]\n",
            " [ 3  0]\n",
            " [ 3  5]]\n"
          ]
        }
      ],
      "source": [
        "x = np.array([[2, 3, 4], [3, 2, 9]])\n",
        "y = np.array([[1, 5, 0], [5, 10, 3]])\n",
        "\n",
        "print(\"Matrix x:\")\n",
        "print(x)\n",
        "print(\"\\nMatrix y:\")\n",
        "print(y)\n",
        "\n",
        "# Inner product\n",
        "print(\"\\nInner product:\")\n",
        "print(np.inner(x, y))\n",
        "\n",
        "# Outer product (using flattened arrays)\n",
        "print(\"\\nOuter product:\")\n",
        "print(np.outer(x.flatten(), y.flatten()))\n",
        "\n",
        "# Cartesian product (using meshgrid)\n",
        "print(\"\\nCartesian product (using meshgrid):\")\n",
        "x_flat = x.flatten()\n",
        "y_flat = y.flatten()\n",
        "cartesian = np.array(np.meshgrid(x_flat, y_flat)).T.reshape(-1, 2)\n",
        "print(f\"Shape: {cartesian.shape}\")\n",
        "print(\"First 10 pairs:\")\n",
        "print(cartesian[:10])"
      ]
    },
    {
      "cell_type": "markdown",
      "metadata": {},
      "source": [
        "## Q2: Based on NumPy Mathematics and Statistics\n",
        "\n",
        "### (a) Array operations - absolute value and percentiles"
      ]
    },
    {
      "cell_type": "code",
      "execution_count": 10,
      "metadata": {},
      "outputs": [
        {
          "name": "stdout",
          "output_type": "stream",
          "text": [
            "Original array:\n",
            "[[ 1 -2  3]\n",
            " [-4  5 -6]]\n",
            "\n",
            "i. Element-wise absolute value:\n",
            "[[1 2 3]\n",
            " [4 5 6]]\n",
            "\n",
            "ii. Percentiles:\n",
            "Flattened array: [ 1 -2  3 -4  5 -6]\n",
            "25th percentile (flattened): -3.5\n",
            "50th percentile (flattened): -0.5\n",
            "75th percentile (flattened): 2.5\n",
            "\n",
            "For each column:\n",
            "25th percentile: [-2.75 -0.25 -3.75]\n",
            "50th percentile: [-1.5  1.5 -1.5]\n",
            "75th percentile: [-0.25  3.25  0.75]\n",
            "\n",
            "For each row:\n",
            "25th percentile: [-0.5 -5. ]\n",
            "50th percentile: [ 1. -4.]\n",
            "75th percentile: [2.  0.5]\n",
            "\n",
            "iii. Statistical measures:\n",
            "Mean (flattened): -0.50\n",
            "Median (flattened): -0.50\n",
            "Standard Deviation (flattened): 3.86\n",
            "\n",
            "For each column:\n",
            "Mean: [-1.5  1.5 -1.5]\n",
            "Median: [-1.5  1.5 -1.5]\n",
            "Standard Deviation: [2.5 3.5 4.5]\n",
            "\n",
            "For each row:\n",
            "Mean: [ 0.66666667 -1.66666667]\n",
            "Median: [ 1. -4.]\n",
            "Standard Deviation: [2.05480467 4.78423336]\n"
          ]
        }
      ],
      "source": [
        "array = np.array([[1, -2, 3], [-4, 5, -6]])\n",
        "print(\"Original array:\")\n",
        "print(array)\n",
        "\n",
        "# i. Element-wise absolute value\n",
        "print(\"\\ni. Element-wise absolute value:\")\n",
        "print(np.abs(array))\n",
        "\n",
        "# ii. Percentiles\n",
        "flattened = array.flatten()\n",
        "print(f\"\\nii. Percentiles:\")\n",
        "print(f\"Flattened array: {flattened}\")\n",
        "print(f\"25th percentile (flattened): {np.percentile(flattened, 25)}\")\n",
        "print(f\"50th percentile (flattened): {np.percentile(flattened, 50)}\")\n",
        "print(f\"75th percentile (flattened): {np.percentile(flattened, 75)}\")\n",
        "\n",
        "print(f\"\\nFor each column:\")\n",
        "print(f\"25th percentile: {np.percentile(array, 25, axis=0)}\")\n",
        "print(f\"50th percentile: {np.percentile(array, 50, axis=0)}\")\n",
        "print(f\"75th percentile: {np.percentile(array, 75, axis=0)}\")\n",
        "\n",
        "print(f\"\\nFor each row:\")\n",
        "print(f\"25th percentile: {np.percentile(array, 25, axis=1)}\")\n",
        "print(f\"50th percentile: {np.percentile(array, 50, axis=1)}\")\n",
        "print(f\"75th percentile: {np.percentile(array, 75, axis=1)}\")\n",
        "\n",
        "# iii. Mean, Median, Standard Deviation\n",
        "print(f\"\\niii. Statistical measures:\")\n",
        "print(f\"Mean (flattened): {np.mean(flattened):.2f}\")\n",
        "print(f\"Median (flattened): {np.median(flattened):.2f}\")\n",
        "print(f\"Standard Deviation (flattened): {np.std(flattened):.2f}\")\n",
        "\n",
        "print(f\"\\nFor each column:\")\n",
        "print(f\"Mean: {np.mean(array, axis=0)}\")\n",
        "print(f\"Median: {np.median(array, axis=0)}\")\n",
        "print(f\"Standard Deviation: {np.std(array, axis=0)}\")\n",
        "\n",
        "print(f\"\\nFor each row:\")\n",
        "print(f\"Mean: {np.mean(array, axis=1)}\")\n",
        "print(f\"Median: {np.median(array, axis=1)}\")\n",
        "print(f\"Standard Deviation: {np.std(array, axis=1)}\")"
      ]
    },
    {
      "cell_type": "markdown",
      "metadata": {},
      "source": [
        "### (b) Floor, ceiling, truncated and rounded values"
      ]
    },
    {
      "cell_type": "code",
      "execution_count": 11,
      "metadata": {},
      "outputs": [
        {
          "name": "stdout",
          "output_type": "stream",
          "text": [
            "Original array: [-1.8 -1.6 -0.5  0.5  1.6  1.8  3. ]\n",
            "\n",
            "Floor values: [-2. -2. -1.  0.  1.  1.  3.]\n",
            "Ceiling values: [-1. -1. -0.  1.  2.  2.  3.]\n",
            "Truncated values: [-1. -1. -0.  0.  1.  1.  3.]\n",
            "Rounded values: [-2. -2. -0.  0.  2.  2.  3.]\n"
          ]
        }
      ],
      "source": [
        "a = np.array([-1.8, -1.6, -0.5, 0.5, 1.6, 1.8, 3.0])\n",
        "print(\"Original array:\", a)\n",
        "\n",
        "print(f\"\\nFloor values: {np.floor(a)}\")\n",
        "print(f\"Ceiling values: {np.ceil(a)}\")\n",
        "print(f\"Truncated values: {np.trunc(a)}\")\n",
        "print(f\"Rounded values: {np.round(a)}\")"
      ]
    },
    {
      "cell_type": "markdown",
      "metadata": {},
      "source": [
        "## Q3: Based on Searching and Sorting\n",
        "\n",
        "### (a) Array sorting operations"
      ]
    },
    {
      "cell_type": "code",
      "execution_count": 12,
      "metadata": {},
      "outputs": [
        {
          "name": "stdout",
          "output_type": "stream",
          "text": [
            "Original array: [ 10  52  62  16  16  54 453]\n",
            "\n",
            "i. Sorted array: [ 10  16  16  52  54  62 453]\n",
            "ii. Indices of sorted array: [0 3 4 1 5 2 6]\n",
            "iii. 4 smallest elements: [10 16 16 52]\n",
            "iv. 5 largest elements: [453  62  54  52  16]\n"
          ]
        }
      ],
      "source": [
        "array = np.array([10, 52, 62, 16, 16, 54, 453])\n",
        "print(\"Original array:\", array)\n",
        "\n",
        "# i. Sorted array\n",
        "sorted_array = np.sort(array)\n",
        "print(f\"\\ni. Sorted array: {sorted_array}\")\n",
        "\n",
        "# ii. Indices of sorted array\n",
        "sorted_indices = np.argsort(array)\n",
        "print(f\"ii. Indices of sorted array: {sorted_indices}\")\n",
        "\n",
        "# iii. 4 smallest elements\n",
        "smallest_4_indices = np.argpartition(array, 3)[:4]\n",
        "smallest_4 = array[smallest_4_indices]\n",
        "print(f\"iii. 4 smallest elements: {np.sort(smallest_4)}\")\n",
        "\n",
        "# iv. 5 largest elements\n",
        "largest_5_indices = np.argpartition(array, -5)[-5:]\n",
        "largest_5 = array[largest_5_indices]\n",
        "print(f\"iv. 5 largest elements: {np.sort(largest_5)[::-1]}\")"
      ]
    },
    {
      "cell_type": "markdown",
      "metadata": {},
      "source": [
        "### (b) Filter integer and float elements"
      ]
    },
    {
      "cell_type": "code",
      "execution_count": 13,
      "metadata": {},
      "outputs": [
        {
          "name": "stdout",
          "output_type": "stream",
          "text": [
            "Original array: [1.  1.2 2.2 2.  3.  2. ]\n",
            "\n",
            "i. Integer elements only: [1. 2. 3. 2.]\n",
            "ii. Float elements only: [1.2 2.2]\n"
          ]
        }
      ],
      "source": [
        "array = np.array([1.0, 1.2, 2.2, 2.0, 3.0, 2.0])\n",
        "print(\"Original array:\", array)\n",
        "\n",
        "# i. Integer elements only (elements that are whole numbers)\n",
        "integer_mask = array == np.floor(array)\n",
        "integer_elements = array[integer_mask]\n",
        "print(f\"\\ni. Integer elements only: {integer_elements}\")\n",
        "\n",
        "# ii. Float elements only (elements that are not whole numbers)\n",
        "float_mask = array != np.floor(array)\n",
        "float_elements = array[float_mask]\n",
        "print(f\"ii. Float elements only: {float_elements}\")"
      ]
    },
    {
      "cell_type": "markdown",
      "metadata": {},
      "source": [
        "## Q4: Image Processing with NumPy\n",
        "\n",
        "(a) Write a function named img_to_array(path) that reads an image and saves it as text file\n",
        "(b) Load the saved file into jupyter notebook"
      ]
    },
    {
      "cell_type": "code",
      "execution_count": 22,
      "metadata": {},
      "outputs": [
        {
          "name": "stdout",
          "output_type": "stream",
          "text": [
            "Image shape: (1064, 1600, 3)\n",
            "Data type: uint8\n",
            "File saved: image_rgb_array.txt\n",
            "File size: 18748504 bytes\n",
            "Expected data lines: 1702402\n",
            "\n",
            "Loading: image_rgb_array.txt\n",
            "Loaded RGB array shape: (1064, 1600, 3)\n",
            "Arrays match: True\n",
            "Complete image data successfully saved and loaded!\n",
            "Loaded RGB array shape: (1064, 1600, 3)\n",
            "Arrays match: True\n",
            "Complete image data successfully saved and loaded!\n"
          ]
        }
      ],
      "source": [
        "# Q4: Image Processing with NumPy\n",
        "import numpy as np\n",
        "from PIL import Image\n",
        "import os\n",
        "\n",
        "def img_to_array(path):\n",
        "    \"\"\"Function to read an image and save it as a text file\"\"\"\n",
        "    try:\n",
        "        img = Image.open(path)\n",
        "        img_array = np.array(img)\n",
        "        base_name = os.path.splitext(os.path.basename(path))[0]\n",
        "        \n",
        "        if len(img_array.shape) == 3:  # RGB image\n",
        "            output_path = f\"{base_name}_rgb_array.txt\"\n",
        "            # Save complete RGB image data\n",
        "            with open(output_path, 'w') as f:\n",
        "                f.write(f\"# RGB Image Array - Shape: {img_array.shape}\\n\")\n",
        "                f.write(f\"# Data format: Each line contains one pixel's RGB values [R G B]\\n\")\n",
        "                for i in range(img_array.shape[0]):\n",
        "                    for j in range(img_array.shape[1]):\n",
        "                        f.write(f\"{img_array[i, j, 0]} {img_array[i, j, 1]} {img_array[i, j, 2]}\\n\")\n",
        "                        \n",
        "        else:  # Grayscale image\n",
        "            output_path = f\"{base_name}_grayscale_array.txt\"\n",
        "            # Save complete grayscale image data\n",
        "            np.savetxt(output_path, img_array, fmt='%d', \n",
        "                      header=f\"Grayscale Image Array - Shape: {img_array.shape}\")\n",
        "        \n",
        "        return img_array, output_path\n",
        "    except Exception as e:\n",
        "        print(f\"Error: {e}\")\n",
        "        return None\n",
        "\n",
        "# (a) Process the image\n",
        "image_path = \"image.png\"\n",
        "result = img_to_array(image_path)\n",
        "\n",
        "if result:\n",
        "    img_array, saved_path = result\n",
        "    print(f\"Image shape: {img_array.shape}\")\n",
        "    print(f\"Data type: {img_array.dtype}\")\n",
        "    print(f\"File saved: {saved_path}\")\n",
        "    \n",
        "    # Check file size to confirm complete data was saved\n",
        "    file_size = os.path.getsize(saved_path)\n",
        "    print(f\"File size: {file_size} bytes\")\n",
        "    \n",
        "    if len(img_array.shape) == 3:  # RGB\n",
        "        expected_lines = img_array.shape[0] * img_array.shape[1] + 2  # +2 for headers\n",
        "        print(f\"Expected data lines: {expected_lines}\")\n",
        "\n",
        "# (b) Load the saved file back\n",
        "txt_files = [f for f in os.listdir('.') if f.endswith('_array.txt') and 'image' in f]\n",
        "\n",
        "if txt_files:\n",
        "    txt_file = txt_files[0]\n",
        "    print(f\"\\nLoading: {txt_file}\")\n",
        "    \n",
        "    if 'grayscale' in txt_file:\n",
        "        # Load complete grayscale array\n",
        "        loaded_array = np.loadtxt(txt_file, dtype=int)\n",
        "        print(f\"Loaded grayscale array shape: {loaded_array.shape}\")\n",
        "        print(f\"Arrays match: {np.array_equal(img_array, loaded_array)}\")\n",
        "        \n",
        "    else:\n",
        "        # Load RGB data\n",
        "        with open(txt_file, 'r') as f:\n",
        "            lines = f.readlines()\n",
        "        \n",
        "        # Skip header lines and parse RGB data\n",
        "        data_lines = [line.strip() for line in lines if not line.startswith('#')]\n",
        "        rgb_data = []\n",
        "        for line in data_lines:\n",
        "            if line:\n",
        "                rgb_values = [int(x) for x in line.split()]\n",
        "                rgb_data.append(rgb_values)\n",
        "        \n",
        "        # Reconstruct the array\n",
        "        if rgb_data:\n",
        "            loaded_rgb = np.array(rgb_data).reshape(img_array.shape)\n",
        "            print(f\"Loaded RGB array shape: {loaded_rgb.shape}\")\n",
        "            print(f\"Arrays match: {np.array_equal(img_array, loaded_rgb)}\")\n",
        "        \n",
        "    print(\"Complete image data successfully saved and loaded!\")"
      ]
    },
    {
      "cell_type": "code",
      "execution_count": null,
      "metadata": {},
      "outputs": [],
      "source": []
    }
  ],
  "metadata": {
    "colab": {
      "provenance": []
    },
    "kernelspec": {
      "display_name": "tf",
      "language": "python",
      "name": "python3"
    },
    "language_info": {
      "codemirror_mode": {
        "name": "ipython",
        "version": 3
      },
      "file_extension": ".py",
      "mimetype": "text/x-python",
      "name": "python",
      "nbconvert_exporter": "python",
      "pygments_lexer": "ipython3",
      "version": "3.10.15"
    }
  },
  "nbformat": 4,
  "nbformat_minor": 0
}
